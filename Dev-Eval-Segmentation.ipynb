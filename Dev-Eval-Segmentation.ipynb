{
 "cells": [
  {
   "cell_type": "code",
   "execution_count": 1,
   "metadata": {
    "collapsed": true
   },
   "outputs": [],
   "source": [
    "GT_DATA = '/data/arunirc/Research/dense-crf-data/training_subset/'\n",
    "CRF_SEG_DATA = '/data2/arunirc/Research/dense-crf/data/crf-output/FBMS-train/'\n",
    "RAW_SEG_DATA = '/data2/arunirc/Research/dense-crf/data/our/FBMS/Trainingset/'\n",
    "OUT_DIR = '/data/arunirc/Research/dense-crf-data/eval-baseline'"
   ]
  },
  {
   "cell_type": "code",
   "execution_count": 2,
   "metadata": {
    "collapsed": true
   },
   "outputs": [],
   "source": [
    "from __future__ import division\n",
    "\n",
    "import numpy as np\n",
    "import matplotlib.pyplot as plt\n",
    "import sys\n",
    "import scipy.io as sio\n",
    "from skimage import color\n",
    "from skimage.io import imread, imsave\n",
    "import os\n",
    "from os import listdir, makedirs\n",
    "from os.path import isfile, join, isdir\n",
    "import argparse\n",
    "\n",
    "import traceback\n",
    "import warnings\n",
    "import sys\n",
    "\n",
    "%matplotlib inline"
   ]
  },
  {
   "cell_type": "code",
   "execution_count": 3,
   "metadata": {
    "collapsed": true
   },
   "outputs": [],
   "source": [
    "def image_to_label(gt_img):\n",
    "    '''\n",
    "        Convert RGB ground truth image to label image, \n",
    "        with labels starting from zero.\n",
    "        gt_label = image_to_label(gt_img)\n",
    "    '''\n",
    "    u_val = np.unique(gt_img)\n",
    "    gt_label = np.zeros(gt_img.shape, dtype=np.uint8)\n",
    "    for i, v in enumerate(u_val):\n",
    "        idx = np.where(gt_img==v)\n",
    "        gt_label[idx[0], idx[1]] = i\n",
    "    return gt_label\n"
   ]
  },
  {
   "cell_type": "code",
   "execution_count": 4,
   "metadata": {
    "collapsed": true
   },
   "outputs": [],
   "source": [
    "def label_to_image(im):\n",
    "    # rescale pixel values\n",
    "    low, high = np.min(im), np.max(im)\n",
    "    im1 = 255.0 * (im - low) / (high - low)\n",
    "    return im1.astype('uint8')"
   ]
  },
  {
   "cell_type": "code",
   "execution_count": 5,
   "metadata": {
    "collapsed": true
   },
   "outputs": [],
   "source": [
    "def fast_hist(a, b, n):\n",
    "    k = (a >= 0) & (a < n)\n",
    "    return np.bincount(n * a[k].astype(int) + b[k], \\\n",
    "                       minlength=n**2).reshape(n, n)"
   ]
  },
  {
   "cell_type": "code",
   "execution_count": 6,
   "metadata": {
    "collapsed": true
   },
   "outputs": [],
   "source": [
    "def get_iou(gt_label, res_label):    \n",
    "    seg_hist = fast_hist(gt_label.flatten(), res_label.flatten(), \\\n",
    "                         np.size(np.unique(gt_label)))\n",
    "    # per-class IU\n",
    "    iu = 1.0 * np.diag(seg_hist) / (seg_hist.sum(1) + seg_hist.sum(0) - np.diag(seg_hist))\n",
    "    return iu"
   ]
  },
  {
   "cell_type": "code",
   "execution_count": 9,
   "metadata": {
    "scrolled": true
   },
   "outputs": [
    {
     "name": "stderr",
     "output_type": "stream",
     "text": [
      "/home/arunirc/dense-crf/lib/python2.7/site-packages/ipykernel_launcher.py:4: RuntimeWarning: invalid value encountered in true_divide\n",
      "  after removing the cwd from sys.path.\n"
     ]
    },
    {
     "name": "stdout",
     "output_type": "stream",
     "text": [
      "[ 0.92410908  0.50762338]\n",
      "[ 0.92694778  0.51840628]\n"
     ]
    }
   ],
   "source": [
    "# Load ground truth file\n",
    "# d = 'bear01'\n",
    "\n",
    "n_cl = 2\n",
    "\n",
    "hist_raw = np.zeros((n_cl, n_cl))\n",
    "hist_crf = np.zeros((n_cl, n_cl))\n",
    "\n",
    "for d in sorted(listdir(GT_DATA)):\n",
    "    count = 0\n",
    "    for fn in \\\n",
    "        [x for x in sorted(listdir(join(GT_DATA, d, 'GroundTruth'))) \\\n",
    "                                                 if x.endswith('.png')]:\n",
    "\n",
    "        count = count + 1\n",
    "\n",
    "        # ground truth labels\n",
    "        gt_img = imread(join(GT_DATA, d, 'GroundTruth', fn))\n",
    "        gt_label = image_to_label(gt_img)\n",
    "\n",
    "        frame_num = str.split(fn, '_')[0]\n",
    "\n",
    "        # CRF predicted labels\n",
    "        seg_file = join(CRF_SEG_DATA, d, frame_num.zfill(5)+'.mat')\n",
    "        if not isfile(seg_file):\n",
    "            continue\n",
    "        mat_data = sio.loadmat(seg_file)\n",
    "        crf_res = mat_data['objectProb']\n",
    "        if np.ndim(crf_res) == 3:\n",
    "            crf_res_label =  np.argmax(crf_res, axis=2)\n",
    "        else:\n",
    "            crf_res_label = np.zeros(crf_res.shape)\n",
    "                \n",
    "\n",
    "        # original predicted labels\n",
    "        seg_file = join(RAW_SEG_DATA, d, 'objectProb', frame_num.zfill(5)+'.mat')         \n",
    "        mat_data = sio.loadmat(seg_file)\n",
    "        raw_res = mat_data['objectProb']\n",
    "        if np.ndim(raw_res) == 3:\n",
    "            raw_res_label =  np.argmax(raw_res, axis=2)\n",
    "        else:\n",
    "            raw_res_label = np.zeros(raw_res.shape)\n",
    "            \n",
    "\n",
    "        # visualize labelings\n",
    "        tiled_img = np.concatenate((label_to_image(gt_label), \\\n",
    "                                    label_to_image(raw_res_label), \\\n",
    "                                    label_to_image(crf_res_label)), axis=1)\n",
    "        if not os.path.isdir(join(OUT_DIR, d)):\n",
    "            os.makedirs(join(OUT_DIR, d))\n",
    "        imsave(join(OUT_DIR, d, frame_num.zfill(5)+'_gt_raw_crf.png'), tiled_img)\n",
    "\n",
    "\n",
    "        # simplified performance metric -- foreground IOU\n",
    "        gt_label = gt_label.astype(int)\n",
    "        raw_res_label = raw_res_label.astype(int)\n",
    "        crf_res_label = crf_res_label.astype(int)\n",
    "        \n",
    "        gt_label_binary = gt_label\n",
    "        gt_label_binary[np.where(gt_label>0)] = 1\n",
    "        raw_label_binary = raw_res_label\n",
    "        raw_label_binary[np.where(raw_res_label>0)] = 1\n",
    "        crf_label_binary = crf_res_label\n",
    "        crf_label_binary[np.where(crf_res_label>0)] = 1\n",
    "\n",
    "        # get IoU\n",
    "        iou_raw = get_iou(gt_label_binary, raw_label_binary)\n",
    "        iou_crf = get_iou(gt_label_binary, crf_label_binary)\n",
    "        np.savetxt(join(OUT_DIR,d,'result_iou_fg_raw.txt'), iou_raw, delimiter=',')\n",
    "        np.savetxt(join(OUT_DIR,d,'result_iou_fg_crf.txt'), iou_crf, delimiter=',')\n",
    "\n",
    "#         print iou_raw\n",
    "#         print iou_crf\n",
    "#         print '\\n'\n",
    "\n",
    "        hist_raw += fast_hist(gt_label_binary.flatten(), \\\n",
    "                              raw_label_binary.flatten(), \\\n",
    "                              n_cl)\n",
    "        hist_crf += fast_hist(gt_label_binary.flatten(), \\\n",
    "                              crf_label_binary.flatten(), \\\n",
    "                              n_cl) \n",
    "\n",
    "# save results\n",
    "iu_raw = np.diag(hist_raw) / (hist_raw.sum(1) + hist_raw.sum(0) - np.diag(hist_raw))\n",
    "iu_crf = np.diag(hist_crf) / (hist_crf.sum(1) + hist_crf.sum(0) - np.diag(hist_crf))\n",
    "\n",
    "print iu_raw\n",
    "print iu_crf\n",
    "\n",
    "np.savetxt(join(OUT_DIR,'result_iou_fg_raw.txt'), iu_raw, delimiter=',')\n",
    "np.savetxt(join(OUT_DIR,'result_iou_fg_crf.txt'), iu_crf, delimiter=',')"
   ]
  },
  {
   "cell_type": "code",
   "execution_count": 153,
   "metadata": {},
   "outputs": [
    {
     "name": "stdout",
     "output_type": "stream",
     "text": [
      "[ 0.92410908  0.50762338]\n",
      "[ 0.92694778  0.51840628]\n"
     ]
    }
   ],
   "source": []
  }
 ],
 "metadata": {
  "kernelspec": {
   "display_name": "Python 2",
   "language": "python",
   "name": "python2"
  },
  "language_info": {
   "codemirror_mode": {
    "name": "ipython",
    "version": 2
   },
   "file_extension": ".py",
   "mimetype": "text/x-python",
   "name": "python",
   "nbconvert_exporter": "python",
   "pygments_lexer": "ipython2",
   "version": "2.7.13"
  }
 },
 "nbformat": 4,
 "nbformat_minor": 2
}
